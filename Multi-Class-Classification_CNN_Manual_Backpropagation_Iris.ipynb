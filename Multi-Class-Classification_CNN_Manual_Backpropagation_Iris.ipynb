{
  "nbformat": 4,
  "nbformat_minor": 0,
  "metadata": {
    "colab": {
      "name": "Shantanu_RL.ipynb",
      "provenance": [],
      "collapsed_sections": []
    },
    "kernelspec": {
      "name": "python3",
      "display_name": "Python 3"
    },
    "language_info": {
      "name": "python"
    }
  },
  "cells": [
    {
      "cell_type": "markdown",
      "source": [
        "* Problem - Multi-class Classification\n",
        "* Dataset - Iris\n",
        "* Model - Manually Backpropagation (No tensorflow, No Keras)\n",
        "* Network layers are like  4 -> 6 -> 3"
      ],
      "metadata": {
        "id": "SlYwX91JiLJy"
      }
    },
    {
      "cell_type": "code",
      "source": [
        "import numpy as np # algebra\n",
        "import pandas as pd # data processing\n",
        "import seaborn as sns # visualization\n",
        "import matplotlib.pyplot as plt # plot figures\n",
        "import time as t # record time\n",
        "from sklearn.model_selection import train_test_split # splitting dataset into train test\n",
        "from sklearn.preprocessing import OneHotEncoder # convert target into one hot encoding\n",
        "from sklearn.preprocessing import MinMaxScaler # normalization\n",
        "%matplotlib inline"
      ],
      "metadata": {
        "id": "tpqKMow2DFcc"
      },
      "execution_count": 113,
      "outputs": []
    },
    {
      "cell_type": "code",
      "execution_count": 114,
      "metadata": {
        "colab": {
          "base_uri": "https://localhost:8080/",
          "height": 204
        },
        "id": "AI_y56cLCx7X",
        "outputId": "24014ec2-4b10-42e7-f1c9-79f6e912b46e"
      },
      "outputs": [
        {
          "output_type": "execute_result",
          "data": {
            "text/html": [
              "\n",
              "  <div id=\"df-becd6f3d-466a-42fb-bd8d-cd3a28700d36\">\n",
              "    <div class=\"colab-df-container\">\n",
              "      <div>\n",
              "<style scoped>\n",
              "    .dataframe tbody tr th:only-of-type {\n",
              "        vertical-align: middle;\n",
              "    }\n",
              "\n",
              "    .dataframe tbody tr th {\n",
              "        vertical-align: top;\n",
              "    }\n",
              "\n",
              "    .dataframe thead th {\n",
              "        text-align: right;\n",
              "    }\n",
              "</style>\n",
              "<table border=\"1\" class=\"dataframe\">\n",
              "  <thead>\n",
              "    <tr style=\"text-align: right;\">\n",
              "      <th></th>\n",
              "      <th>Id</th>\n",
              "      <th>SepalLengthCm</th>\n",
              "      <th>SepalWidthCm</th>\n",
              "      <th>PetalLengthCm</th>\n",
              "      <th>PetalWidthCm</th>\n",
              "      <th>Species</th>\n",
              "    </tr>\n",
              "  </thead>\n",
              "  <tbody>\n",
              "    <tr>\n",
              "      <th>28</th>\n",
              "      <td>29</td>\n",
              "      <td>5.2</td>\n",
              "      <td>3.4</td>\n",
              "      <td>1.4</td>\n",
              "      <td>0.2</td>\n",
              "      <td>Iris-setosa</td>\n",
              "    </tr>\n",
              "    <tr>\n",
              "      <th>66</th>\n",
              "      <td>67</td>\n",
              "      <td>5.6</td>\n",
              "      <td>3.0</td>\n",
              "      <td>4.5</td>\n",
              "      <td>1.5</td>\n",
              "      <td>Iris-versicolor</td>\n",
              "    </tr>\n",
              "    <tr>\n",
              "      <th>126</th>\n",
              "      <td>127</td>\n",
              "      <td>6.2</td>\n",
              "      <td>2.8</td>\n",
              "      <td>4.8</td>\n",
              "      <td>1.8</td>\n",
              "      <td>Iris-virginica</td>\n",
              "    </tr>\n",
              "    <tr>\n",
              "      <th>5</th>\n",
              "      <td>6</td>\n",
              "      <td>5.4</td>\n",
              "      <td>3.9</td>\n",
              "      <td>1.7</td>\n",
              "      <td>0.4</td>\n",
              "      <td>Iris-setosa</td>\n",
              "    </tr>\n",
              "    <tr>\n",
              "      <th>108</th>\n",
              "      <td>109</td>\n",
              "      <td>6.7</td>\n",
              "      <td>2.5</td>\n",
              "      <td>5.8</td>\n",
              "      <td>1.8</td>\n",
              "      <td>Iris-virginica</td>\n",
              "    </tr>\n",
              "  </tbody>\n",
              "</table>\n",
              "</div>\n",
              "      <button class=\"colab-df-convert\" onclick=\"convertToInteractive('df-becd6f3d-466a-42fb-bd8d-cd3a28700d36')\"\n",
              "              title=\"Convert this dataframe to an interactive table.\"\n",
              "              style=\"display:none;\">\n",
              "        \n",
              "  <svg xmlns=\"http://www.w3.org/2000/svg\" height=\"24px\"viewBox=\"0 0 24 24\"\n",
              "       width=\"24px\">\n",
              "    <path d=\"M0 0h24v24H0V0z\" fill=\"none\"/>\n",
              "    <path d=\"M18.56 5.44l.94 2.06.94-2.06 2.06-.94-2.06-.94-.94-2.06-.94 2.06-2.06.94zm-11 1L8.5 8.5l.94-2.06 2.06-.94-2.06-.94L8.5 2.5l-.94 2.06-2.06.94zm10 10l.94 2.06.94-2.06 2.06-.94-2.06-.94-.94-2.06-.94 2.06-2.06.94z\"/><path d=\"M17.41 7.96l-1.37-1.37c-.4-.4-.92-.59-1.43-.59-.52 0-1.04.2-1.43.59L10.3 9.45l-7.72 7.72c-.78.78-.78 2.05 0 2.83L4 21.41c.39.39.9.59 1.41.59.51 0 1.02-.2 1.41-.59l7.78-7.78 2.81-2.81c.8-.78.8-2.07 0-2.86zM5.41 20L4 18.59l7.72-7.72 1.47 1.35L5.41 20z\"/>\n",
              "  </svg>\n",
              "      </button>\n",
              "      \n",
              "  <style>\n",
              "    .colab-df-container {\n",
              "      display:flex;\n",
              "      flex-wrap:wrap;\n",
              "      gap: 12px;\n",
              "    }\n",
              "\n",
              "    .colab-df-convert {\n",
              "      background-color: #E8F0FE;\n",
              "      border: none;\n",
              "      border-radius: 50%;\n",
              "      cursor: pointer;\n",
              "      display: none;\n",
              "      fill: #1967D2;\n",
              "      height: 32px;\n",
              "      padding: 0 0 0 0;\n",
              "      width: 32px;\n",
              "    }\n",
              "\n",
              "    .colab-df-convert:hover {\n",
              "      background-color: #E2EBFA;\n",
              "      box-shadow: 0px 1px 2px rgba(60, 64, 67, 0.3), 0px 1px 3px 1px rgba(60, 64, 67, 0.15);\n",
              "      fill: #174EA6;\n",
              "    }\n",
              "\n",
              "    [theme=dark] .colab-df-convert {\n",
              "      background-color: #3B4455;\n",
              "      fill: #D2E3FC;\n",
              "    }\n",
              "\n",
              "    [theme=dark] .colab-df-convert:hover {\n",
              "      background-color: #434B5C;\n",
              "      box-shadow: 0px 1px 3px 1px rgba(0, 0, 0, 0.15);\n",
              "      filter: drop-shadow(0px 1px 2px rgba(0, 0, 0, 0.3));\n",
              "      fill: #FFFFFF;\n",
              "    }\n",
              "  </style>\n",
              "\n",
              "      <script>\n",
              "        const buttonEl =\n",
              "          document.querySelector('#df-becd6f3d-466a-42fb-bd8d-cd3a28700d36 button.colab-df-convert');\n",
              "        buttonEl.style.display =\n",
              "          google.colab.kernel.accessAllowed ? 'block' : 'none';\n",
              "\n",
              "        async function convertToInteractive(key) {\n",
              "          const element = document.querySelector('#df-becd6f3d-466a-42fb-bd8d-cd3a28700d36');\n",
              "          const dataTable =\n",
              "            await google.colab.kernel.invokeFunction('convertToInteractive',\n",
              "                                                     [key], {});\n",
              "          if (!dataTable) return;\n",
              "\n",
              "          const docLinkHtml = 'Like what you see? Visit the ' +\n",
              "            '<a target=\"_blank\" href=https://colab.research.google.com/notebooks/data_table.ipynb>data table notebook</a>'\n",
              "            + ' to learn more about interactive tables.';\n",
              "          element.innerHTML = '';\n",
              "          dataTable['output_type'] = 'display_data';\n",
              "          await google.colab.output.renderOutput(dataTable, element);\n",
              "          const docLink = document.createElement('div');\n",
              "          docLink.innerHTML = docLinkHtml;\n",
              "          element.appendChild(docLink);\n",
              "        }\n",
              "      </script>\n",
              "    </div>\n",
              "  </div>\n",
              "  "
            ],
            "text/plain": [
              "      Id  SepalLengthCm  ...  PetalWidthCm          Species\n",
              "28    29            5.2  ...           0.2      Iris-setosa\n",
              "66    67            5.6  ...           1.5  Iris-versicolor\n",
              "126  127            6.2  ...           1.8   Iris-virginica\n",
              "5      6            5.4  ...           0.4      Iris-setosa\n",
              "108  109            6.7  ...           1.8   Iris-virginica\n",
              "\n",
              "[5 rows x 6 columns]"
            ]
          },
          "metadata": {},
          "execution_count": 114
        }
      ],
      "source": [
        "# load iris database\n",
        "data = pd.read_csv('/content/drive/MyDrive/CV/Iris.csv')\n",
        "data.sample(n=5)"
      ]
    },
    {
      "cell_type": "code",
      "source": [
        "X = data[['SepalLengthCm', 'SepalWidthCm', 'PetalLengthCm', 'PetalWidthCm']]\n",
        "X = np.array(X)\n",
        "\n",
        "# define min max scaler\n",
        "scaler = MinMaxScaler()\n",
        "# transform data - normalization\n",
        "X = scaler.fit_transform(X)\n",
        "\n",
        "# Convert target variable into categorical\n",
        "one_hot_encoder = OneHotEncoder(sparse=False)\n",
        "\n",
        "y = data.Species\n",
        "y = one_hot_encoder.fit_transform(np.array(y).reshape(-1, 1))"
      ],
      "metadata": {
        "id": "9UlgIIRbU6wW"
      },
      "execution_count": 115,
      "outputs": []
    },
    {
      "cell_type": "code",
      "source": [
        "print(f'Separated Inputs and Labels into X and y matrix')\n",
        "print(f'Input is : {X.shape}')\n",
        "print(f'Label is : {y.shape}')"
      ],
      "metadata": {
        "colab": {
          "base_uri": "https://localhost:8080/"
        },
        "id": "bpi7MtyAjFU7",
        "outputId": "b307afbd-fbb3-459c-f2f1-732182fd6b8d"
      },
      "execution_count": 116,
      "outputs": [
        {
          "output_type": "stream",
          "name": "stdout",
          "text": [
            "Separated Inputs and Labels into X and y matrix\n",
            "Input is : (150, 4)\n",
            "Label is : (150, 3)\n"
          ]
        }
      ]
    },
    {
      "cell_type": "code",
      "source": [
        "#Split training and testing dataset\n",
        "X_train, X_test, y_train, y_test = train_test_split(X, y, test_size=0.20)\n",
        "print(f'Divided Inputs and Labels for training and testing respectively')\n",
        "print(f'X_train - {X_train.shape}')\n",
        "print(f'X_test - {X_test.shape}')\n",
        "print(f'y_train - {y_train.shape}')\n",
        "print(f'y_test - {y_test.shape}')"
      ],
      "metadata": {
        "colab": {
          "base_uri": "https://localhost:8080/"
        },
        "id": "VCl9w3_xUNvs",
        "outputId": "36081d56-f5ec-4b6f-d89e-5b4152338c16"
      },
      "execution_count": 117,
      "outputs": [
        {
          "output_type": "stream",
          "name": "stdout",
          "text": [
            "Divided Inputs and Labels for training and testing respectively\n",
            "X_train - (120, 4)\n",
            "X_test - (30, 4)\n",
            "y_train - (120, 3)\n",
            "y_test - (30, 3)\n"
          ]
        }
      ]
    },
    {
      "cell_type": "code",
      "source": [
        "total_independent_variable = X.shape[1]\n",
        "total_hidden_layer = 1\n",
        "total_weights_matrix = total_hidden_layer + 1 \n",
        "hidden_layer_neurons = 6\n",
        "output_layer_neurons = 3\n",
        "epochs = 1000\n",
        "learning_rate = 0.01\n",
        "loss_list = []"
      ],
      "metadata": {
        "id": "tnKU717BhcYN"
      },
      "execution_count": 118,
      "outputs": []
    },
    {
      "cell_type": "code",
      "source": [
        "# setup weight matrix\n",
        "weights_for_hidden_layer_1 = np.random.rand(total_independent_variable, hidden_layer_neurons) \n",
        "weights_for_output_layer = np.random.rand(hidden_layer_neurons, output_layer_neurons) "
      ],
      "metadata": {
        "id": "Gze_6M_0hgM_"
      },
      "execution_count": 119,
      "outputs": []
    },
    {
      "cell_type": "code",
      "source": [
        "print(f'Total independent variable/ features : {total_independent_variable}')\n",
        "print(f'\\nInput layer size : {total_independent_variable}')\n",
        "print(f'Total Hidden layers/inner layers  : {total_hidden_layer}')\n",
        "print(f'Total weight matrix/ Proper Hidden layers : {total_weights_matrix}')\n",
        "print(f'Epochs : {epochs}')\n",
        "\n",
        "print(f'\\nWeights for hidden layer 1 shape : {weights_for_hidden_layer_1.shape}')\n",
        "print(f'Weights for output layer shape : {weights_for_output_layer.shape}')"
      ],
      "metadata": {
        "colab": {
          "base_uri": "https://localhost:8080/"
        },
        "id": "j4Cgc36pg6Cm",
        "outputId": "24ffa3a7-fb18-438d-87cf-7abbbad30e05"
      },
      "execution_count": 120,
      "outputs": [
        {
          "output_type": "stream",
          "name": "stdout",
          "text": [
            "Total independent variable/ features : 4\n",
            "\n",
            "Input layer size : 4\n",
            "Total Hidden layers/inner layers  : 1\n",
            "Total weight matrix/ Proper Hidden layers : 2\n",
            "Epochs : 1000\n",
            "\n",
            "Weights for hidden layer 1 shape : (4, 6)\n",
            "Weights for output layer shape : (6, 3)\n"
          ]
        }
      ]
    },
    {
      "cell_type": "code",
      "source": [
        "def sigmoid(s):\n",
        "    s=np.array(s,dtype=np.float32)\n",
        "    sig = 1.0/(1.0 + np.exp(-s))\n",
        "    return sig\n",
        "\n",
        "def sigmoid_derivative(s):\n",
        "    return s * (1.0 - s)\n",
        "\n",
        "def feedforward(inp):\n",
        "    output_of_hl1 = sigmoid(np.dot(inp, weights_for_hidden_layer_1))\n",
        "    y_hat = sigmoid(np.dot(output_of_hl1, weights_for_output_layer))\n",
        "    return y_hat,output_of_hl1\n",
        "\n",
        "training_time = t.time()\n",
        "#training the NN epochs times\n",
        "for i in range(epochs): \n",
        "    #feed forward\n",
        "    y_hat,output_of_hl1 = feedforward(X_train)\n",
        "    \n",
        "    #print loss after specific loop\n",
        "    training_mse = np.average((y_hat - y_train) ** 2)\n",
        "    loss_list.append(training_mse)     \n",
        "    \n",
        "    correct_train = 0\n",
        "    if(i % 80 == 0):\n",
        "      print(\"Epoch {}\".format(i))\n",
        "      # Compare predicted and actual output \n",
        "      for r in range(len(X_train)):\n",
        "        if(np.argmax(y_train[r]) == np.argmax(y_hat[r])):\n",
        "          # Guessed correctly\n",
        "          correct_train += 1\n",
        "      print(f'Training Accuracy: {(round((correct_train / len(X_train)*100),2))}% and loss: {round(training_mse,5)}')\n",
        "\n",
        "    loss = (y_train - y_hat)\n",
        "    \n",
        "    #back propagation    \n",
        "    output_layer_delta = loss * sigmoid_derivative(y_hat)\n",
        "    weights_for_output_layer_old = weights_for_output_layer\n",
        "    weights_for_output_layer = weights_for_output_layer + (learning_rate * np.dot(output_of_hl1.T, output_layer_delta))\n",
        "    \n",
        "    loss_for_hl1 = np.dot(output_layer_delta, weights_for_output_layer_old.T)\n",
        "    hl1_delta = loss_for_hl1 * sigmoid_derivative(output_of_hl1)\n",
        "    weights_for_hidden_layer_1_old = weights_for_hidden_layer_1\n",
        "    weights_for_hidden_layer_1 = weights_for_hidden_layer_1 + (learning_rate * np.dot(X_train.T, hl1_delta))\n",
        "    \n",
        "print(f'\\nTotal time taken to train points : {t.time()-training_time}')"
      ],
      "metadata": {
        "colab": {
          "base_uri": "https://localhost:8080/"
        },
        "id": "rgb091AIFJ7j",
        "outputId": "05ecabad-4b4f-4632-89ce-22d34ec2f8e6"
      },
      "execution_count": 121,
      "outputs": [
        {
          "output_type": "stream",
          "name": "stdout",
          "text": [
            "Epoch 0\n",
            "Training Accuracy: 31.67% and loss: 0.52015\n",
            "Epoch 80\n",
            "Training Accuracy: 34.17% and loss: 0.21791\n",
            "Epoch 160\n",
            "Training Accuracy: 65.83% and loss: 0.1988\n",
            "Epoch 240\n",
            "Training Accuracy: 65.83% and loss: 0.14839\n",
            "Epoch 320\n",
            "Training Accuracy: 65.83% and loss: 0.12414\n",
            "Epoch 400\n",
            "Training Accuracy: 70.83% and loss: 0.11507\n",
            "Epoch 480\n",
            "Training Accuracy: 75.83% and loss: 0.10999\n",
            "Epoch 560\n",
            "Training Accuracy: 87.5% and loss: 0.1063\n",
            "Epoch 640\n",
            "Training Accuracy: 90.0% and loss: 0.10322\n",
            "Epoch 720\n",
            "Training Accuracy: 91.67% and loss: 0.10046\n",
            "Epoch 800\n",
            "Training Accuracy: 93.33% and loss: 0.09785\n",
            "Epoch 880\n",
            "Training Accuracy: 93.33% and loss: 0.0953\n",
            "Epoch 960\n",
            "Training Accuracy: 94.17% and loss: 0.09277\n",
            "\n",
            "Total time taken to train points : 0.10373520851135254\n"
          ]
        }
      ]
    },
    {
      "cell_type": "code",
      "source": [
        "plt.xlabel('Epochs')\n",
        "plt.ylabel('Losss')\n",
        "plt.title('Learning curve')\n",
        "plt.plot(loss_list)\n",
        "plt.show()"
      ],
      "metadata": {
        "colab": {
          "base_uri": "https://localhost:8080/",
          "height": 295
        },
        "id": "XAyqB64ZH2RF",
        "outputId": "5118b825-fa8a-4ed7-b379-184fba4211e0"
      },
      "execution_count": 122,
      "outputs": [
        {
          "output_type": "display_data",
          "data": {
            "image/png": "[encoded data removed]",
            "text/plain": [
              "<Figure size 432x288 with 1 Axes>"
            ]
          },
          "metadata": {
            "needs_background": "light"
          }
        }
      ]
    },
    {
      "cell_type": "code",
      "source": [
        "# Testing accuracy\n",
        "\n",
        "testing_time = t.time()\n",
        "\n",
        "op,output_of_hl1 = feedforward(X_test)\n",
        "\n",
        "correct = 0 \n",
        "\n",
        "# Compare predicted and actual output \n",
        "for i in range(len(X_test)):\n",
        "  if(np.argmax(y_test[i]) == np.argmax(op[i])):\n",
        "    # Guessed correctly\n",
        "    correct += 1\n",
        "\n",
        "print(f'Testing accuracy : {round((correct / len(X_test)*100),2)}%')\n",
        "print(f'Total time taken to test points : {t.time()-testing_time}')"
      ],
      "metadata": {
        "colab": {
          "base_uri": "https://localhost:8080/"
        },
        "id": "QOocKqNmK32O",
        "outputId": "e51e70d6-c688-45a6-ed6c-c3934613e060"
      },
      "execution_count": 123,
      "outputs": [
        {
          "output_type": "stream",
          "name": "stdout",
          "text": [
            "Testing accuracy : 96.67%\n",
            "Total time taken to test points : 0.002208232879638672\n"
          ]
        }
      ]
    }
  ]
}